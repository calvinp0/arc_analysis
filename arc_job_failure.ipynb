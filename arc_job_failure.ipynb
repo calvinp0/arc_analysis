{
 "cells": [
  {
   "cell_type": "markdown",
   "metadata": {},
   "source": [
    "Filter jobs that succeeded\n",
    "\n",
    "- \"Calculating rate coefficient\"\n",
    "\n",
    "Failures in stderr.log\n",
    "\n",
    "- \"arc.exceptions.VectorsError: Could not calculate a dihedral angle for\"\n",
    "- \"TypeError: can only concatenate str (not \"int\") to str\" \n",
    "\n",
    "Exception in arc.log\n",
    "- \"Error: No conformer was found to be isomorphic with the 2D graph representation\"\n",
    "- \"arc.exceptions.ReactionError\", \"is not atom balanced.\"\n",
    "\n",
    "\n",
    "False Succeeded Jobs:\n",
    "\n",
    "- \"Warning: Could not determine a likely TS conformer for TS0\", \"All jobs for species TS0 successfully converged\""
   ]
  },
  {
   "cell_type": "code",
   "execution_count": null,
   "metadata": {
    "vscode": {
     "languageId": "plaintext"
    }
   },
   "outputs": [],
   "source": []
  }
 ],
 "metadata": {
  "language_info": {
   "name": "python"
  }
 },
 "nbformat": 4,
 "nbformat_minor": 2
}
